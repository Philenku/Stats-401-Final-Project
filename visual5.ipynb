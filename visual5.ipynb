{
 "cells": [
  {
   "cell_type": "markdown",
   "metadata": {},
   "source": [
    "## Visual 5\n",
    "To see this visual, first change the data_path variable to the correct path. Then, run all cells, and finally the visual will open in the browser, where you can see it and interact with it. "
   ]
  },
  {
   "cell_type": "code",
   "execution_count": 1,
   "metadata": {},
   "outputs": [],
   "source": [
    "import pandas as pd\n",
    "import numpy as np\n",
    "import warnings"
   ]
  },
  {
   "cell_type": "code",
   "execution_count": 2,
   "metadata": {},
   "outputs": [
    {
     "name": "stderr",
     "output_type": "stream",
     "text": [
      "c:\\Users\\Teodora\\Anaconda3\\lib\\site-packages\\IPython\\core\\interactiveshell.py:3444: DtypeWarning: Columns (15,40,41,42,43,44,45,46,52,53,54,71,77,78,79,80,82,83,84,85,101,102,103,104,105,130,131,137,153,154,155,156,157,163,164,165,181,182,183,184,191,207,208,209,213,217,233,234,235,236,237,261,262,263,285,286,287,291,307,308,309,310,311,336,337,338,339,361,362,363,366,367,383,384,385,386,387,419,480,547,555,561,562,563,732,734,736,740,752,754,756,760,800,865,866,867,868,869,870,891,917,965,1006,1007,1085,1086,1087,1148,1167,1218,1219,1243,1245,1246,1248,1251,1252,1257,1260,1269,1285,1326,1328,1338,1340,1350,1352,1354,1368,1397,2084,2085,2086,2091) have mixed types.Specify dtype option on import or set low_memory=False.\n",
      "  exec(code_obj, self.user_global_ns, self.user_ns)\n"
     ]
    }
   ],
   "source": [
    "# DATA LOADING CELL\n",
    "data_path = \"..\\\\Crimedata.csv\"\n",
    "data = pd.read_csv(data_path) "
   ]
  },
  {
   "cell_type": "code",
   "execution_count": 3,
   "metadata": {},
   "outputs": [],
   "source": [
    "col_dict = {'V1267': 'Alcohol',\n",
    "'V1266' : \"Alcohol_12months\",\n",
    " 'V1327': 'Marijuana',\n",
    " 'V1315' : 'Marijuana_30days',\n",
    " 'V1339' : 'Marijuana_12months',\n",
    " 'V1330': 'Heroin',\n",
    " 'V1318' : 'Heroin_30days',\n",
    " 'V1342' : 'Heroin_12months',\n",
    " 'V1328': 'Cocaine',\n",
    " 'V1316': 'Cocaine_30days',\n",
    " 'V1340': 'Cocaine_12months',\n",
    " 'RV0052' : 'Highest_Year_Education_Before_Prison',\n",
    " 'RV0001': 'Age',\n",
    " 'RV0003': 'Race',\n",
    " 'RV0005': 'Sex',\n",
    " 'V0772': 'State'} # State where living at time of arrest"
   ]
  },
  {
   "cell_type": "code",
   "execution_count": 4,
   "metadata": {},
   "outputs": [],
   "source": [
    "data.rename(columns=col_dict,inplace=True)"
   ]
  },
  {
   "cell_type": "code",
   "execution_count": 5,
   "metadata": {},
   "outputs": [
    {
     "data": {
      "text/plain": [
       "(24848, 2105)"
      ]
     },
     "execution_count": 5,
     "metadata": {},
     "output_type": "execute_result"
    }
   ],
   "source": [
    "data.shape"
   ]
  },
  {
   "cell_type": "code",
   "execution_count": null,
   "metadata": {},
   "outputs": [],
   "source": [
    "cols_to_clean = [\"Alcohol\",\"Marijuana\",\"Heroin\",\"Cocaine\"]\n",
    "df = data[[\"Alcohol\",\"Marijuana\",\"Heroin\",\"Cocaine\",\"Age\",\"Sex\",\"Race\",\"State\", 'Highest_Year_Education_Before_Prison']]\n",
    "for col in cols_to_clean:\n",
    "    df[col] = df[col].str.extract(r'([\\-0-9]+)').fillna(0).astype(int)\n",
    "df['Sex'] = df['Sex'].str.extract(r'([A-Za-z]+)')\n",
    "df['Race'] = df['Race'].str.slice(7)\n",
    "df.to_csv(\"./extracted_data_vis5.csv\",index=False)"
   ]
  },
  {
   "cell_type": "code",
   "execution_count": 2,
   "metadata": {},
   "outputs": [],
   "source": [
    "df = pd.read_csv(\"extracted_data_vis5.csv\")"
   ]
  },
  {
   "cell_type": "code",
   "execution_count": 3,
   "metadata": {},
   "outputs": [
    {
     "data": {
      "text/html": [
       "<div>\n",
       "<style scoped>\n",
       "    .dataframe tbody tr th:only-of-type {\n",
       "        vertical-align: middle;\n",
       "    }\n",
       "\n",
       "    .dataframe tbody tr th {\n",
       "        vertical-align: top;\n",
       "    }\n",
       "\n",
       "    .dataframe thead th {\n",
       "        text-align: right;\n",
       "    }\n",
       "</style>\n",
       "<table border=\"1\" class=\"dataframe\">\n",
       "  <thead>\n",
       "    <tr style=\"text-align: right;\">\n",
       "      <th></th>\n",
       "      <th>Alcohol</th>\n",
       "      <th>Marijuana</th>\n",
       "      <th>Heroin</th>\n",
       "      <th>Cocaine</th>\n",
       "      <th>Age</th>\n",
       "      <th>Sex</th>\n",
       "      <th>Race</th>\n",
       "      <th>State</th>\n",
       "      <th>Highest_Year_Education_Before_Prison</th>\n",
       "    </tr>\n",
       "  </thead>\n",
       "  <tbody>\n",
       "    <tr>\n",
       "      <th>0</th>\n",
       "      <td>2</td>\n",
       "      <td>0</td>\n",
       "      <td>0</td>\n",
       "      <td>0</td>\n",
       "      <td>51</td>\n",
       "      <td>Male</td>\n",
       "      <td>White (NH)</td>\n",
       "      <td>GA</td>\n",
       "      <td>12</td>\n",
       "    </tr>\n",
       "    <tr>\n",
       "      <th>1</th>\n",
       "      <td>2</td>\n",
       "      <td>1</td>\n",
       "      <td>0</td>\n",
       "      <td>0</td>\n",
       "      <td>29</td>\n",
       "      <td>Male</td>\n",
       "      <td>White (NH)</td>\n",
       "      <td>SC</td>\n",
       "      <td>8</td>\n",
       "    </tr>\n",
       "    <tr>\n",
       "      <th>2</th>\n",
       "      <td>2</td>\n",
       "      <td>2</td>\n",
       "      <td>0</td>\n",
       "      <td>2</td>\n",
       "      <td>43</td>\n",
       "      <td>Female</td>\n",
       "      <td>White (NH)</td>\n",
       "      <td>IN</td>\n",
       "      <td>15</td>\n",
       "    </tr>\n",
       "    <tr>\n",
       "      <th>3</th>\n",
       "      <td>1</td>\n",
       "      <td>2</td>\n",
       "      <td>2</td>\n",
       "      <td>2</td>\n",
       "      <td>45</td>\n",
       "      <td>Male</td>\n",
       "      <td>White (NH)</td>\n",
       "      <td>CA</td>\n",
       "      <td>10</td>\n",
       "    </tr>\n",
       "    <tr>\n",
       "      <th>4</th>\n",
       "      <td>2</td>\n",
       "      <td>0</td>\n",
       "      <td>0</td>\n",
       "      <td>0</td>\n",
       "      <td>31</td>\n",
       "      <td>Female</td>\n",
       "      <td>Black (NH)</td>\n",
       "      <td>OH</td>\n",
       "      <td>13</td>\n",
       "    </tr>\n",
       "  </tbody>\n",
       "</table>\n",
       "</div>"
      ],
      "text/plain": [
       "   Alcohol  Marijuana  Heroin  Cocaine  Age     Sex         Race State  \\\n",
       "0        2          0       0        0   51    Male   White (NH)    GA   \n",
       "1        2          1       0        0   29    Male   White (NH)    SC   \n",
       "2        2          2       0        2   43  Female   White (NH)    IN   \n",
       "3        1          2       2        2   45    Male   White (NH)    CA   \n",
       "4        2          0       0        0   31  Female   Black (NH)    OH   \n",
       "\n",
       "   Highest_Year_Education_Before_Prison  \n",
       "0                                    12  \n",
       "1                                     8  \n",
       "2                                    15  \n",
       "3                                    10  \n",
       "4                                    13  "
      ]
     },
     "execution_count": 3,
     "metadata": {},
     "output_type": "execute_result"
    }
   ],
   "source": [
    "df.head()"
   ]
  },
  {
   "cell_type": "code",
   "execution_count": 3,
   "metadata": {},
   "outputs": [],
   "source": [
    "# remove missing values in years of education\n",
    "na_values = [99, 98]\n",
    "df = df[~df.Highest_Year_Education_Before_Prison.isin(na_values)]"
   ]
  },
  {
   "cell_type": "code",
   "execution_count": 4,
   "metadata": {},
   "outputs": [
    {
     "name": "stderr",
     "output_type": "stream",
     "text": [
      "C:\\Users\\Dell\\AppData\\Local\\Temp\\ipykernel_16740\\3565264193.py:1: FutureWarning: Indexing with multiple keys (implicitly converted to a tuple of keys) will be deprecated, use a list instead.\n",
      "  drug_data = df.groupby('Highest_Year_Education_Before_Prison')[\"Alcohol\", 'Marijuana', 'Cocaine', 'Heroin'].apply(lambda r: r[r==1].count())\n"
     ]
    },
    {
     "data": {
      "text/html": [
       "<div>\n",
       "<style scoped>\n",
       "    .dataframe tbody tr th:only-of-type {\n",
       "        vertical-align: middle;\n",
       "    }\n",
       "\n",
       "    .dataframe tbody tr th {\n",
       "        vertical-align: top;\n",
       "    }\n",
       "\n",
       "    .dataframe thead th {\n",
       "        text-align: right;\n",
       "    }\n",
       "</style>\n",
       "<table border=\"1\" class=\"dataframe\">\n",
       "  <thead>\n",
       "    <tr style=\"text-align: right;\">\n",
       "      <th></th>\n",
       "      <th>Highest_Year_Education_Before_Prison</th>\n",
       "      <th>Alcohol</th>\n",
       "      <th>Marijuana</th>\n",
       "      <th>Cocaine</th>\n",
       "      <th>Heroin</th>\n",
       "      <th>total_prisoners</th>\n",
       "    </tr>\n",
       "  </thead>\n",
       "  <tbody>\n",
       "    <tr>\n",
       "      <th>0</th>\n",
       "      <td>0</td>\n",
       "      <td>20</td>\n",
       "      <td>10</td>\n",
       "      <td>6</td>\n",
       "      <td>0</td>\n",
       "      <td>81</td>\n",
       "    </tr>\n",
       "    <tr>\n",
       "      <th>1</th>\n",
       "      <td>1</td>\n",
       "      <td>21</td>\n",
       "      <td>17</td>\n",
       "      <td>7</td>\n",
       "      <td>4</td>\n",
       "      <td>98</td>\n",
       "    </tr>\n",
       "    <tr>\n",
       "      <th>2</th>\n",
       "      <td>2</td>\n",
       "      <td>26</td>\n",
       "      <td>13</td>\n",
       "      <td>14</td>\n",
       "      <td>4</td>\n",
       "      <td>92</td>\n",
       "    </tr>\n",
       "    <tr>\n",
       "      <th>3</th>\n",
       "      <td>3</td>\n",
       "      <td>30</td>\n",
       "      <td>7</td>\n",
       "      <td>6</td>\n",
       "      <td>4</td>\n",
       "      <td>100</td>\n",
       "    </tr>\n",
       "    <tr>\n",
       "      <th>4</th>\n",
       "      <td>4</td>\n",
       "      <td>24</td>\n",
       "      <td>23</td>\n",
       "      <td>11</td>\n",
       "      <td>7</td>\n",
       "      <td>95</td>\n",
       "    </tr>\n",
       "  </tbody>\n",
       "</table>\n",
       "</div>"
      ],
      "text/plain": [
       "   Highest_Year_Education_Before_Prison  Alcohol  Marijuana  Cocaine  Heroin  \\\n",
       "0                                     0       20         10        6       0   \n",
       "1                                     1       21         17        7       4   \n",
       "2                                     2       26         13       14       4   \n",
       "3                                     3       30          7        6       4   \n",
       "4                                     4       24         23       11       7   \n",
       "\n",
       "   total_prisoners  \n",
       "0               81  \n",
       "1               98  \n",
       "2               92  \n",
       "3              100  \n",
       "4               95  "
      ]
     },
     "execution_count": 4,
     "metadata": {},
     "output_type": "execute_result"
    }
   ],
   "source": [
    "drug_data = df.groupby('Highest_Year_Education_Before_Prison')[\"Alcohol\", 'Marijuana', 'Cocaine', 'Heroin'].apply(lambda r: r[r==1].count())\n",
    "drug_data[\"total_prisoners\"] = df.groupby('Highest_Year_Education_Before_Prison')['Alcohol'].count().values\n",
    "drug_data.reset_index(inplace=True)\n",
    "drug_data.head()"
   ]
  },
  {
   "cell_type": "code",
   "execution_count": 5,
   "metadata": {},
   "outputs": [
    {
     "name": "stdout",
     "output_type": "stream",
     "text": [
      "['GTK3Agg', 'GTK3Cairo', 'GTK4Agg', 'GTK4Cairo', 'MacOSX', 'nbAgg', 'QtAgg', 'QtCairo', 'Qt5Agg', 'Qt5Cairo', 'TkAgg', 'TkCairo', 'WebAgg', 'WX', 'WXAgg', 'WXCairo']\n"
     ]
    }
   ],
   "source": [
    "import matplotlib\n",
    "print(matplotlib.rcsetup.interactive_bk)"
   ]
  },
  {
   "cell_type": "code",
   "execution_count": null,
   "metadata": {},
   "outputs": [],
   "source": [
    "import numpy as np\n",
    "import matplotlib.pyplot as plt\n",
    "plt.switch_backend('WebAgg')\n",
    "\n",
    "def main():\n",
    "    subplots = ZoomingSubplots(4, 1)\n",
    "    colors = ['#780000', '#c1121f', '#003049', '#669bbc']\n",
    "    labels = ['Alcohol', 'Marijuana', 'Cocaine', 'Heroin']\n",
    "    present_data = [drug_data['Alcohol'], drug_data['Marijuana'], drug_data['Cocaine'], drug_data['Heroin']]\n",
    "    i = -1\n",
    "    for ax, color in zip(subplots.axes.flat, colors):\n",
    "        i += 1\n",
    "        x = [0, 1, 2, 3, 4, 5, 6, 7, 8, 9, 10, 11, 12, 13, 14, 15, 16, 17, 18]\n",
    "        data = present_data[i]\n",
    "        ax.set_ylabel(labels[i])\n",
    "        ax.scatter(x, data, color=color)\n",
    "        if(i==3): \n",
    "            ax.get_xaxis().set_visible(True)    \n",
    "        else:\n",
    "            ax.get_xaxis().set_visible(False)\n",
    "        \n",
    "    plt.ion()\n",
    "    subplots.fig.supxlabel('Years of Education before Prison')\n",
    "    subplots.fig.suptitle('Click on an axes to make it fill the figure.\\n'\n",
    "                 'Click again to restore it to its original position')\n",
    "    \n",
    "    plt.show()\n",
    "    #plt.subplots_adjust()\n",
    "\n",
    "class ZoomingSubplots(object):\n",
    "    def __init__(self, *args, **kwargs):\n",
    "        \"\"\"All parameters passed on to 'subplots`.\"\"\"\n",
    "        self.fig, self.axes = plt.subplots(*args, **kwargs)\n",
    "        self._zoomed = False\n",
    "        self.fig.canvas.mpl_connect('button_press_event', self.on_click)\n",
    "\n",
    "    def zoom(self, selected_ax):\n",
    "        for ax in self.axes.flat:\n",
    "            ax.set_visible(False)\n",
    "        self._original_size = selected_ax.get_position()\n",
    "        selected_ax.set_position([0.125, 0.1, 0.775, 0.8])\n",
    "        selected_ax.set_visible(True)\n",
    "        self._zoomed = True\n",
    "\n",
    "    def unzoom(self, selected_ax):\n",
    "        selected_ax.set_position(self._original_size)\n",
    "        for ax in self.axes.flat:\n",
    "            ax.set_visible(True)\n",
    "        self._zoomed = False\n",
    "\n",
    "    def on_click(self, event):\n",
    "        if event.inaxes is None:\n",
    "            return\n",
    "        if self._zoomed:\n",
    "            self.unzoom(event.inaxes)\n",
    "        else:\n",
    "            self.zoom(event.inaxes)\n",
    "        self.fig.canvas.draw()\n",
    "\n",
    "if __name__ == '__main__':\n",
    "    main()"
   ]
  },
  {
   "cell_type": "code",
   "execution_count": 15,
   "metadata": {},
   "outputs": [],
   "source": [
    "class ZoomingSubplots(object):\n",
    "    def __init__(self, *args, **kwargs):\n",
    "        \"\"\"All parameters passed on to 'subplots`.\"\"\"\n",
    "        self.fig, self.axes = plt.subplots(*args, **kwargs)\n",
    "        self._zoomed = False\n",
    "        self.fig.canvas.mpl_connect('button_press_event', self.on_click)\n",
    "\n",
    "    def zoom(self, selected_ax):\n",
    "        for ax in self.axes.flat:\n",
    "            ax.set_visible(False)\n",
    "        self._original_size = selected_ax.get_position()\n",
    "        selected_ax.set_position([0.125, 0.1, 0.775, 0.8])\n",
    "        selected_ax.set_visible(True)\n",
    "        self._zoomed = True\n",
    "\n",
    "    def unzoom(self, selected_ax):\n",
    "        selected_ax.set_position(self._original_size)\n",
    "        for ax in self.axes.flat:\n",
    "            ax.set_visible(True)\n",
    "        self._zoomed = False\n",
    "\n",
    "    def on_click(self, event):\n",
    "        if event.inaxes is None:\n",
    "            return\n",
    "        if self._zoomed:\n",
    "            self.unzoom(event.inaxes)\n",
    "        else:\n",
    "            self.zoom(event.inaxes)\n",
    "        self.fig.canvas.draw()"
   ]
  },
  {
   "cell_type": "code",
   "execution_count": 8,
   "metadata": {},
   "outputs": [],
   "source": [
    "def myplot():\n",
    "    subplots = ZoomingSubplots(4, 1)\n",
    "    colors = ['#780000', '#c1121f', '#003049', '#669bbc']\n",
    "    labels = ['Alcohol', 'Marijuana', 'Cocaine', 'Heroin']\n",
    "    present_data = [drug_data['Alcohol'], drug_data['Marijuana'], drug_data['Cocaine'], drug_data['Heroin']]\n",
    "    i = -1\n",
    "    for ax, color in zip(subplots.axes.flat, colors):\n",
    "        i += 1\n",
    "        x = [0, 1, 2, 3, 4, 5, 6, 7, 8, 9, 10, 11, 12, 13, 14, 15, 16, 17, 18]\n",
    "        data = present_data[i]\n",
    "        ax.set_ylabel(labels[i])\n",
    "        ax.scatter(x, data, color=color)\n",
    "        if(i==3): \n",
    "            ax.get_xaxis().set_visible(True)    \n",
    "        else:\n",
    "            ax.get_xaxis().set_visible(False)\n",
    "        \n",
    "    plt.ion()\n",
    "    subplots.fig.supxlabel('Years of Education before Prison')\n",
    "    subplots.fig.suptitle('Click on an axes to make it fill the figure')\n",
    "    \n",
    "    plt.show()"
   ]
  },
  {
   "cell_type": "code",
   "execution_count": 12,
   "metadata": {},
   "outputs": [],
   "source": [
    "import numpy as np\n",
    "import matplotlib.pyplot as plt\n",
    "plt.switch_backend('WebAgg')"
   ]
  },
  {
   "cell_type": "code",
   "execution_count": 19,
   "metadata": {},
   "outputs": [],
   "source": [
    "plt.show()"
   ]
  },
  {
   "cell_type": "code",
   "execution_count": null,
   "metadata": {},
   "outputs": [],
   "source": []
  }
 ],
 "metadata": {
  "kernelspec": {
   "display_name": "Python 3.8.13 ('base')",
   "language": "python",
   "name": "python3"
  },
  "language_info": {
   "codemirror_mode": {
    "name": "ipython",
    "version": 3
   },
   "file_extension": ".py",
   "mimetype": "text/x-python",
   "name": "python",
   "nbconvert_exporter": "python",
   "pygments_lexer": "ipython3",
   "version": "3.8.13"
  },
  "orig_nbformat": 4,
  "vscode": {
   "interpreter": {
    "hash": "a2ab3825ac7005fb7b26f112e9c99ae62f464c629e30b0d534c3b931b6cbc3ff"
   }
  }
 },
 "nbformat": 4,
 "nbformat_minor": 2
}
